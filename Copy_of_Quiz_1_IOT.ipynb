{
  "nbformat": 4,
  "nbformat_minor": 0,
  "metadata": {
    "colab": {
      "name": "Copy of Quiz  1 IOT",
      "provenance": [],
      "collapsed_sections": []
    },
    "kernelspec": {
      "name": "python3",
      "display_name": "Python 3"
    },
    "language_info": {
      "name": "python"
    }
  },
  "cells": [
    {
      "cell_type": "code",
      "execution_count": null,
      "metadata": {
        "colab": {
          "base_uri": "https://localhost:8080/"
        },
        "id": "lXrx-_3sFr4V",
        "outputId": "ae7cac35-ebdf-4abd-c920-7b0eb1f875bb"
      },
      "outputs": [
        {
          "output_type": "stream",
          "name": "stdout",
          "text": [
            "11\n",
            "13\n",
            "15\n",
            "17\n"
          ]
        }
      ],
      "source": [
        "#Q1: python program to print all odd numbers in a list\\\n",
        "list1=[10,11,13,15,16,17]\n",
        "for num in list1:\n",
        "  if num % 2!=0:\n",
        "    print(num)\n"
      ]
    },
    {
      "cell_type": "code",
      "source": [
        "#Q2 write a pythone program to find the sum of list elements\n",
        "b=[]\n",
        "num=int(input(\"numbers: \"))\n",
        "for n in range(num):\n",
        "  numbers=int(input(\"Enter Numbers: \"))\n",
        "  b.append(numbers)\n",
        "print(\"sum of numbers: \",sum(b))"
      ],
      "metadata": {
        "colab": {
          "base_uri": "https://localhost:8080/"
        },
        "id": "iUmRB9gfF3FJ",
        "outputId": "ad2574d9-60d8-44a4-87b8-bcf2f5f1f8d7"
      },
      "execution_count": null,
      "outputs": [
        {
          "output_type": "stream",
          "name": "stdout",
          "text": [
            "numbers: 5\n",
            "Enter Numbers: 2\n",
            "Enter Numbers: 3\n",
            "Enter Numbers: 4\n",
            "Enter Numbers: 5\n",
            "Enter Numbers: 6\n",
            "sum of numbers:  20\n"
          ]
        }
      ]
    },
    {
      "cell_type": "code",
      "source": [
        "#Q3:write a pythone program to rever a list\n",
        "a=[2,3,4,5,6]\n",
        "a.reverse()\n",
        "print(\"Reversed list is; \",a)\n",
        "print(\"Reversed list is;\",a[::-1])"
      ],
      "metadata": {
        "colab": {
          "base_uri": "https://localhost:8080/"
        },
        "id": "ClpGzpdCGUCj",
        "outputId": "9e871d34-0e34-4ac6-d1d6-671d3503fdc0"
      },
      "execution_count": null,
      "outputs": [
        {
          "output_type": "stream",
          "name": "stdout",
          "text": [
            "Reversed list is;  [6, 5, 4, 3, 2]\n",
            "Reversed list is; [2, 3, 4, 5, 6]\n"
          ]
        }
      ]
    },
    {
      "cell_type": "code",
      "source": [
        "#Q4 Find a program to find top 2 element of list\n",
        "a=[5,9,7,6,4,8]\n",
        "a.sort()\n",
        "print(a)\n",
        "print(\"First Highest no is: \",a[-1])\n",
        "print(\"second highest no is: \",a[-2])"
      ],
      "metadata": {
        "colab": {
          "base_uri": "https://localhost:8080/"
        },
        "id": "qiBHItrkGbzM",
        "outputId": "0b5fa2f9-f760-4e03-c516-9f73215e8dd5"
      },
      "execution_count": null,
      "outputs": [
        {
          "output_type": "stream",
          "name": "stdout",
          "text": [
            "[4, 5, 6, 7, 8, 9]\n",
            "First Highest no is:  9\n",
            "second highest no is:  8\n"
          ]
        }
      ]
    },
    {
      "cell_type": "code",
      "source": [
        "#Q5 Find secondd highest number list in program\n",
        "a=[5,9,7,6,4,8]\n",
        "a.sort()\n",
        "print(a)\n",
        "print(\"second highest no is: \",a[-2])"
      ],
      "metadata": {
        "colab": {
          "base_uri": "https://localhost:8080/"
        },
        "id": "6ayPvREtGpVF",
        "outputId": "765de108-e9ca-4313-f0f5-21f1d4cd6903"
      },
      "execution_count": null,
      "outputs": [
        {
          "output_type": "stream",
          "name": "stdout",
          "text": [
            "[4, 5, 6, 7, 8, 9]\n",
            "second highest no is:  8\n"
          ]
        }
      ]
    },
    {
      "cell_type": "code",
      "source": [
        "#Q6 pythone program to sort list in ascending \n",
        "j=[1,5,9,7,8,6]\n",
        "j.sort()\n",
        "print(\"List in Ascending order\",j)\n",
        "\n"
      ],
      "metadata": {
        "colab": {
          "base_uri": "https://localhost:8080/"
        },
        "id": "unBAh91wHHhe",
        "outputId": "7692f7f4-8bba-47ec-ac42-baab1fe18cb5"
      },
      "execution_count": null,
      "outputs": [
        {
          "output_type": "stream",
          "name": "stdout",
          "text": [
            "List in Ascending order [1, 5, 6, 7, 8, 9]\n"
          ]
        }
      ]
    },
    {
      "cell_type": "code",
      "source": [
        "# Q7 python program to remove repeated character from a string\n",
        "a=input(\"Enter Your Word\")\n",
        "p=\" \"\n",
        "for char in a:\n",
        "  if char not in p:\n",
        "    p=p+char\n",
        "print(p)"
      ],
      "metadata": {
        "colab": {
          "base_uri": "https://localhost:8080/"
        },
        "id": "Poi8WHMLH9x_",
        "outputId": "0b3a999e-15e6-45a0-c295-6fa43cab8060"
      },
      "execution_count": null,
      "outputs": [
        {
          "output_type": "stream",
          "name": "stdout",
          "text": [
            "Enter Your Wordbabar\n",
            " bar\n"
          ]
        }
      ]
    },
    {
      "cell_type": "code",
      "source": [
        "#Q8 python program to check if a given character is a vovel or consonent\n",
        "a=input(\"Enter a Character: \")\n",
        "if a in(\"a\",\"e\",\"i\",\"o\",\"u\"):\n",
        "  print(a,\"is a vowel\")\n",
        "else:\n",
        "  print(a,\"is a Consonent\")"
      ],
      "metadata": {
        "colab": {
          "base_uri": "https://localhost:8080/"
        },
        "id": "k2YSeyULIVbm",
        "outputId": "92a8d92d-fbce-4cc7-dffc-4eb4962f5338"
      },
      "execution_count": null,
      "outputs": [
        {
          "output_type": "stream",
          "name": "stdout",
          "text": [
            "Enter a Character: a\n",
            "a is a vowel\n"
          ]
        }
      ]
    },
    {
      "cell_type": "code",
      "source": [
        "#Q9 python program to calculate factorial\n",
        "num =int(input(\"Enter Number:  \"))\n",
        "factorial = 1\n",
        "if num < 0:\n",
        "   print(\"-ve No Does not contain Factorial\")\n",
        "elif num == 0:\n",
        "   print(\"The factorial of 0 is 1\")\n",
        "else:\n",
        "   for i in range(1,num + 1):\n",
        "       factorial = factorial*i\n",
        "   print(\"The factorial of\",num,\"is\",factorial)"
      ],
      "metadata": {
        "colab": {
          "base_uri": "https://localhost:8080/"
        },
        "id": "VBhs6dpvIoIK",
        "outputId": "559d40cf-1071-4c51-bf80-41ff9af1618b"
      },
      "execution_count": null,
      "outputs": [
        {
          "output_type": "stream",
          "name": "stdout",
          "text": [
            "ENter Number:  5\n",
            "The factorial of 5 is 120\n"
          ]
        }
      ]
    },
    {
      "cell_type": "code",
      "source": [
        "#Q10 pythone program to merge two list\n",
        "A=[1,2,3,4,5,6]\n",
        "B=[7,8,9,4,5,6]\n",
        "C=A+B\n",
        "C.sort()\n",
        "print(C)\n",
        "\n"
      ],
      "metadata": {
        "colab": {
          "base_uri": "https://localhost:8080/"
        },
        "id": "adikTB1XJjD6",
        "outputId": "e9d235a3-a30e-43b4-a8b5-7dc7c5bdde50"
      },
      "execution_count": null,
      "outputs": [
        {
          "output_type": "stream",
          "name": "stdout",
          "text": [
            "[1, 2, 3, 4, 4, 5, 5, 6, 6, 7, 8, 9]\n"
          ]
        }
      ]
    },
    {
      "cell_type": "code",
      "source": [
        ""
      ],
      "metadata": {
        "id": "WEMecqxZLvHP"
      },
      "execution_count": null,
      "outputs": []
    }
  ]
}